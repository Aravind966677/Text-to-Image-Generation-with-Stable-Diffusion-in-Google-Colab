{
  "nbformat": 4,
  "nbformat_minor": 0,
  "metadata": {
    "colab": {
      "provenance": []
    },
    "kernelspec": {
      "name": "python3",
      "display_name": "Python 3"
    },
    "language_info": {
      "name": "python"
    }
  },
  "cells": [
    {
      "cell_type": "code",
      "execution_count": null,
      "metadata": {
        "id": "yTrPtj6Jfws8"
      },
      "outputs": [],
      "source": [
        "# Install the required libraries\n",
        "!pip install diffusers transformers accelerate torchvision\n",
        "\n",
        "# Import required libraries\n",
        "from diffusers import StableDiffusionPipeline\n",
        "import torch\n",
        "\n",
        "# Load the Stable Diffusion model\n",
        "model_name = \"runwayml/stable-diffusion-v1-5\"\n",
        "pipe = StableDiffusionPipeline.from_pretrained(model_name)\n",
        "\n",
        "# Move the pipeline to GPU for faster inference\n",
        "pipe.to(\"cuda\")\n",
        "\n",
        "# Define the text prompt for image generation\n",
        "prompt = \"A person cycling with a parrot sitting on their shoulder in a scenic background.\" #enter the prompt\n",
        "\n",
        "# Generate an image\n",
        "print(\"Generating image...\")\n",
        "generated_image = pipe(prompt).images[0]\n",
        "\n",
        "# Save the image\n",
        "output_path = \"/content/generated_image.png\"\n",
        "generated_image.save(output_path)\n",
        "print(f\"Image saved to {output_path}\")\n",
        "\n",
        "# Display the image\n",
        "generated_image.show()\n"
      ]
    }
  ]
}